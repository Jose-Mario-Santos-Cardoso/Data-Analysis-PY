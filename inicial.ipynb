{
 "cells": [
  {
   "cell_type": "markdown",
   "metadata": {},
   "source": [
    "# Python Insights - Analisando Dados com Python\n",
    "\n",
    "### Case - Cancelamento de Clientes\n",
    "\n",
    "Você foi contratado por uma empresa com mais de 800 mil clientes para um projeto de Dados. Recentemente a empresa percebeu que da sua base total de clientes, a maioria são clientes inativos, ou seja, que já cancelaram o serviço.\n",
    "\n",
    "Precisando melhorar seus resultados ela quer conseguir entender os principais motivos desses cancelamentos e quais as ações mais eficientes para reduzir esse número.\n",
    "\n",
    "Base de dados e arquivos: https://drive.google.com/drive/folders/1uDesZePdkhiraJmiyeZ-w5tfc8XsNYFZ?usp=drive_link"
   ]
  },
  {
   "cell_type": "code",
   "execution_count": null,
   "metadata": {},
   "outputs": [],
   "source": [
    "#!pip install pandas openpyxl numpy ipykernel nbformat plotly\n",
    "%pip install pandas openpyxl numpy ipykernel nbformat plotly\n",
    "import pandas\n",
    "# import pandas as pd\n",
    "tabela = pandas.read_csv(\"cancelamentos_sample.csv\")\n",
    "\n",
    "# print(tabela)\n",
    "# display(tabela)\n",
    "tabela = tabela.drop(columns=\"Customer-ID\")\n",
    "# tabela = tabela.drop(columns=[\"\", \"\", \"\", \"\"])\n",
    "display(tabela)\n",
    "# display(tabela.info())"
   ]
  },
  {
   "cell_type": "code",
   "execution_count": null,
   "metadata": {},
   "outputs": [],
   "source": [
    "# not usable colums - drop the unnecessary\n",
    "# wrong format' infos\n",
    "\n",
    "# drop lines w/ null values\n",
    "tabela = tabela.dropna()\n",
    "# tabela = tabela.fillna()\n",
    "# display(tabela)\n",
    "# print(tabela.info())\n",
    "display(tabela.info())"
   ]
  },
  {
   "cell_type": "code",
   "execution_count": null,
   "metadata": {},
   "outputs": [],
   "source": [
    "#Case's Analysis\n",
    "# tabela[\"cancelou\"]\n",
    "# display(tabela[\"cancelou\"])\n",
    "\n",
    "#count number of cases\n",
    "display(tabela[\"cancelou\"].value_counts())\n",
    "# display(tabela[\"\", \"\", \"\"].value_counts())\n",
    "# display(tabela[\"cancelou\"].value_counts(normalize=True))\n",
    "# display(tabela[\"cancelou\"].value_counts(normalize=True).map(\"{:.1%}\".format))"
   ]
  },
  {
   "cell_type": "code",
   "execution_count": null,
   "metadata": {},
   "outputs": [],
   "source": [
    "import plotly.express as px\n",
    "\n",
    "#create graphic\n",
    "# grafico = px.line\n",
    "# grafico = px.bar\n",
    "# grafico = px.column\n",
    "# grafico = px.area\n",
    "# grafico = px.histogram()\n",
    "# grafico = px.histogram(tabela, x=\"duracao_contrato\", color=\"cancelou\")\n",
    "# grafico = px.histogram(tabela, x=\"duracao_contrato\", color=\"cancelou\", text_auto=\"True\")\n",
    "# coluna = \"\"\n",
    "\n",
    "for coluna in tabela.columns:\n",
    "    grafico = px.histogram(tabela, x=coluna, color=\"cancelou\")\n",
    "\n",
    "    #show the graphic\n",
    "    grafico.show()"
   ]
  },
  {
   "cell_type": "code",
   "execution_count": null,
   "metadata": {},
   "outputs": [],
   "source": [
    "#filter cases\n",
    "filtro = tabela[\"ligacoes_callcenter\"]<=4\n",
    "tabela = tabela[filtro]\n",
    "#filter cases\n",
    "filtro = tabela[\"dias_atraso\"]<=20\n",
    "tabela = tabela[filtro]\n",
    "#filter cases\n",
    "filtro = tabela[\"duracao_contrato\"]!=\"Montly\"\n",
    "tabela = tabela[filtro]\n",
    "# display(tabela[\"cancelou\"].value_counts(normalize=True))\n",
    "display(tabela[\"cancelou\"].value_counts(normalize=True).map(\"{:.1%}\".format))"
   ]
  }
 ],
 "metadata": {
  "kernelspec": {
   "display_name": "base",
   "language": "python",
   "name": "python3"
  },
  "language_info": {
   "codemirror_mode": {
    "name": "ipython",
    "version": 3
   },
   "file_extension": ".py",
   "mimetype": "text/x-python",
   "name": "python",
   "nbconvert_exporter": "python",
   "pygments_lexer": "ipython3",
   "version": "3.11.9"
  },
  "orig_nbformat": 4
 },
 "nbformat": 4,
 "nbformat_minor": 2
}
